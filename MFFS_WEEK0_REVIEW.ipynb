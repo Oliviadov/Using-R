{
  "nbformat": 4,
  "nbformat_minor": 0,
  "metadata": {
    "colab": {
      "provenance": [],
      "authorship_tag": "ABX9TyNngok8TOc6ZRD+zJT37T8Q",
      "include_colab_link": true
    },
    "kernelspec": {
      "name": "python3",
      "display_name": "Python 3"
    },
    "language_info": {
      "name": "python"
    }
  },
  "cells": [
    {
      "cell_type": "markdown",
      "metadata": {
        "id": "view-in-github",
        "colab_type": "text"
      },
      "source": [
        "<a href=\"https://colab.research.google.com/github/Oliviadov/Using-R/blob/main/MFFS_WEEK0_REVIEW.ipynb\" target=\"_parent\"><img src=\"https://colab.research.google.com/assets/colab-badge.svg\" alt=\"Open In Colab\"/></a>"
      ]
    },
    {
      "cell_type": "code",
      "execution_count": null,
      "metadata": {
        "id": "gFROxc4odsCi",
        "colab": {
          "base_uri": "https://localhost:8080/",
          "height": 36
        },
        "outputId": "7f97a243-e514-4e08-8590-299a52828819"
      },
      "outputs": [
        {
          "output_type": "execute_result",
          "data": {
            "text/plain": [
              "'/content'"
            ],
            "application/vnd.google.colaboratory.intrinsic+json": {
              "type": "string"
            }
          },
          "metadata": {},
          "execution_count": 2
        }
      ],
      "source": [
        "pwd #print the current working directory"
      ]
    },
    {
      "cell_type": "code",
      "source": [
        "from google.colab import drive\n",
        "drive.mount('/content/drive')"
      ],
      "metadata": {
        "colab": {
          "base_uri": "https://localhost:8080/"
        },
        "id": "GsWJ-EbheFkT",
        "outputId": "9de0e48f-9c49-4452-e69d-1f03594a65ea"
      },
      "execution_count": null,
      "outputs": [
        {
          "output_type": "stream",
          "name": "stdout",
          "text": [
            "Mounted at /content/drive\n"
          ]
        }
      ]
    },
    {
      "cell_type": "code",
      "source": [
        "ls # list the file in the current directory"
      ],
      "metadata": {
        "colab": {
          "base_uri": "https://localhost:8080/"
        },
        "id": "vNcwr0gQefXi",
        "outputId": "1b015dc6-8a09-49f0-f6b0-c8ec7572fb99"
      },
      "execution_count": null,
      "outputs": [
        {
          "output_type": "stream",
          "name": "stdout",
          "text": [
            "\u001b[0m\u001b[01;34mdrive\u001b[0m/  \u001b[01;34msample_data\u001b[0m/\n"
          ]
        }
      ]
    },
    {
      "cell_type": "code",
      "source": [
        "cd sample_data # change the directory"
      ],
      "metadata": {
        "colab": {
          "base_uri": "https://localhost:8080/"
        },
        "id": "G5oZtoTfvRhE",
        "outputId": "78ac0003-c48d-4749-c153-b6ed89cb0d27"
      },
      "execution_count": null,
      "outputs": [
        {
          "output_type": "stream",
          "name": "stdout",
          "text": [
            "/content/sample_data\n"
          ]
        }
      ]
    },
    {
      "cell_type": "code",
      "source": [
        "ls"
      ],
      "metadata": {
        "colab": {
          "base_uri": "https://localhost:8080/"
        },
        "id": "QnLU6IUxfics",
        "outputId": "542f99ac-69f1-489f-da69-3c2f2960e333"
      },
      "execution_count": null,
      "outputs": [
        {
          "output_type": "stream",
          "name": "stdout",
          "text": [
            "\u001b[0m\u001b[01;32manscombe.json\u001b[0m*               california_housing_train.csv  mnist_train_small.csv\n",
            "california_housing_test.csv  mnist_test.csv                \u001b[01;32mREADME.md\u001b[0m*\n"
          ]
        }
      ]
    },
    {
      "cell_type": "code",
      "source": [
        "ls -l #list the file in the current directory with details"
      ],
      "metadata": {
        "colab": {
          "base_uri": "https://localhost:8080/"
        },
        "id": "1SeJtAXjfqzA",
        "outputId": "d3e71890-2340-4be9-c71d-313d49a23ffa"
      },
      "execution_count": null,
      "outputs": [
        {
          "output_type": "stream",
          "name": "stdout",
          "text": [
            "total 55504\n",
            "-rwxr-xr-x 1 root root     1697 Jan  1  2000 \u001b[0m\u001b[01;32manscombe.json\u001b[0m*\n",
            "-rw-r--r-- 1 root root   301141 Jun  6 14:21 california_housing_test.csv\n",
            "-rw-r--r-- 1 root root  1706430 Jun  6 14:21 california_housing_train.csv\n",
            "-rw-r--r-- 1 root root 18289443 Jun  6 14:21 mnist_test.csv\n",
            "-rw-r--r-- 1 root root 36523880 Jun  6 14:21 mnist_train_small.csv\n",
            "-rwxr-xr-x 1 root root      930 Jan  1  2000 \u001b[01;32mREADME.md\u001b[0m*\n"
          ]
        }
      ]
    },
    {
      "cell_type": "code",
      "source": [
        "pwd"
      ],
      "metadata": {
        "colab": {
          "base_uri": "https://localhost:8080/",
          "height": 36
        },
        "id": "u_WDaj1dgMGA",
        "outputId": "d0a382a3-6195-408b-813f-fecc2417f417"
      },
      "execution_count": null,
      "outputs": [
        {
          "output_type": "execute_result",
          "data": {
            "text/plain": [
              "'/content/sample_data'"
            ],
            "application/vnd.google.colaboratory.intrinsic+json": {
              "type": "string"
            }
          },
          "metadata": {},
          "execution_count": 12
        }
      ]
    },
    {
      "cell_type": "code",
      "source": [
        "cd .. # Go back to the parent directory"
      ],
      "metadata": {
        "colab": {
          "base_uri": "https://localhost:8080/"
        },
        "id": "m4R9LfsjvdLg",
        "outputId": "02cc2bac-b5df-4562-d1c4-eb0d94a84871"
      },
      "execution_count": null,
      "outputs": [
        {
          "output_type": "stream",
          "name": "stdout",
          "text": [
            "/content\n"
          ]
        }
      ]
    },
    {
      "cell_type": "code",
      "source": [
        "ls -l"
      ],
      "metadata": {
        "colab": {
          "base_uri": "https://localhost:8080/"
        },
        "id": "9jkvqPn_hg7C",
        "outputId": "ee2309db-0e1d-41a5-afbe-6a2ae1a8d0a1"
      },
      "execution_count": null,
      "outputs": [
        {
          "output_type": "stream",
          "name": "stdout",
          "text": [
            "total 8\n",
            "drwx------ 5 root root 4096 Jun  7 22:04 \u001b[0m\u001b[01;34mdrive\u001b[0m/\n",
            "drwxr-xr-x 1 root root 4096 Jun  6 14:21 \u001b[01;34msample_data\u001b[0m/\n"
          ]
        }
      ]
    },
    {
      "cell_type": "code",
      "source": [
        "cd drive"
      ],
      "metadata": {
        "colab": {
          "base_uri": "https://localhost:8080/"
        },
        "id": "jMwXSUcMh4kj",
        "outputId": "6fc73798-2f4c-458b-9f70-7f440fe454c9"
      },
      "execution_count": null,
      "outputs": [
        {
          "output_type": "stream",
          "name": "stdout",
          "text": [
            "/content/drive\n"
          ]
        }
      ]
    },
    {
      "cell_type": "code",
      "source": [
        "ls"
      ],
      "metadata": {
        "colab": {
          "base_uri": "https://localhost:8080/"
        },
        "id": "HFxOlUoTiOpj",
        "outputId": "297fb5b4-c556-4a17-88e4-c20a91df9aea"
      },
      "execution_count": null,
      "outputs": [
        {
          "output_type": "stream",
          "name": "stdout",
          "text": [
            "\u001b[0m\u001b[01;34mMyDrive\u001b[0m/\n"
          ]
        }
      ]
    },
    {
      "cell_type": "code",
      "source": [
        "cd MyDrive"
      ],
      "metadata": {
        "colab": {
          "base_uri": "https://localhost:8080/"
        },
        "id": "XV2H3nloiTUg",
        "outputId": "ee0c00f7-622b-42c6-97f2-6662857169ed"
      },
      "execution_count": null,
      "outputs": [
        {
          "output_type": "stream",
          "name": "stdout",
          "text": [
            "/content/drive/MyDrive\n"
          ]
        }
      ]
    },
    {
      "cell_type": "code",
      "source": [
        "ls"
      ],
      "metadata": {
        "colab": {
          "base_uri": "https://localhost:8080/"
        },
        "id": "Xn7ODMkricLZ",
        "outputId": "4419b280-2d80-4f76-ddde-f06883783b16",
        "collapsed": true
      },
      "execution_count": null,
      "outputs": [
        {
          "output_type": "stream",
          "name": "stdout",
          "text": [
            " 14246.pdf\n",
            "'2020_PNUD_TDR_Budget bon_ Loi Cadre sur la planification_ atelier de prévalidation _PAI PMA.doc'\n",
            " 3ie_policy_window_query_form.docx\n",
            "'Agent_P DOVOEDO F. IMELDA OLIVIA M..gdoc'\n",
            "'Agent_P DOVOEDO F. IMELDA OLIVIA M..pdf'\n",
            "'AI Engineering - Intro to Python.gdoc'\n",
            " \u001b[0m\u001b[01;34maips\u001b[0m/\n",
            "'AIPS_EN BREF_ODJOUBE.pptx'\n",
            " Appointment\n",
            "'Attestation de fin de stage-giz- DOVOEDO F. Imelda Olivia Murielle.pdf'\n",
            "'Attestationfin de stage dge DOVOEDO F. Imelda Olivia Murielle.pdf'\n",
            "'Attestation provisoire master gestion des projets_Femi Imelda Olivia Murielle Dovoedo.pdf'\n",
            "'Attestation provisoire master PGP Olivia DOVOEDO.jpg'\n",
            "'Avis de recrutement de CT MR GBE.pdf'\n",
            " \u001b[01;34mbourse\u001b[0m/\n",
            "'Budget mensuel (1).gsheet'\n",
            "'Budget mensuel (2).gsheet'\n",
            "'Budget mensuel.gsheet'\n",
            "'Candidature DOVOEDO F. Imelda Olivia Murielle_bourse IRS BENIN_Att Stage (1).pdf'\n",
            "'Candidature DOVOEDO F. Imelda Olivia Murielle_bourse IRS BENIN_Att Stage (2).pdf'\n",
            "'Candidature DOVOEDO F. Imelda Olivia Murielle_bourse IRS BENIN_Att Stage (3).pdf'\n",
            "'Candidature DOVOEDO F. Imelda Olivia Murielle_bourse IRS BENIN_Att Stage.pdf'\n",
            "'Candidature DOVOEDO F. Imelda Olivia Murielle_bourse IRS BENIN_CI (1).pdf'\n",
            "'Candidature DOVOEDO F. Imelda Olivia Murielle_bourse IRS BENIN_CI (2).pdf'\n",
            "'Candidature DOVOEDO F. Imelda Olivia Murielle_bourse IRS BENIN_CI.pdf'\n",
            "'Candidature DOVOEDO F. Imelda Olivia Murielle_bourse IRS BENIN_Dip (1).pdf'\n",
            "'Candidature DOVOEDO F. Imelda Olivia Murielle_bourse IRS BENIN_Dip (2).pdf'\n",
            "'Candidature DOVOEDO F. Imelda Olivia Murielle_bourse IRS BENIN_Dip (3).pdf'\n",
            "'Candidature DOVOEDO F. Imelda Olivia Murielle_bourse IRS BENIN_Dip.pdf'\n",
            "'Candidature DOVOEDO F. Imelda Olivia Murielle_bourse IRS BENIN_Lettre de motivation (1).pdf'\n",
            "'Candidature DOVOEDO F. Imelda Olivia Murielle_bourse IRS BENIN_Lettre de motivation (2).pdf'\n",
            "'Candidature DOVOEDO F. Imelda Olivia Murielle_bourse IRS BENIN_Lettre de motivation.pdf'\n",
            "'Candidature DOVOEDO F. Imelda Olivia Murielle_jvps (1).pdf'\n",
            "'Candidature_DOVOEDO F. Imelda Olivia Murielle_JVPS (1).pdf'\n",
            "'Candidature DOVOEDO F. Imelda Olivia Murielle_jvps.pdf'\n",
            "'Candidature_DOVOEDO F. Imelda Olivia Murielle_JVPS.pdf'\n",
            "'Candidature DOVOEDO F. Imelda Olivia Murielle_jvps.xps'\n",
            " changement_climatq.doc\n",
            "\u001b[01;34m'Colab Notebooks'\u001b[0m/\n",
            "'Compétitivité des entreprises béninoises .docx'\n",
            "'Copie de Diagramme de Gantt Template Olivia.gsheet'\n",
            "'Copie de GANTT Olivia.gsheet'\n",
            "'Copie de Présentation soutenance client - gérez un projet digital en cascade_olivia.gslides'\n",
            "'Crise économique dans la zone euro  Causes et conséquences pour les pays africains zone vf.docx'\n",
            "'Curriculum Vitae_BIRS_OLIVIA DOVOEDO (1).pdf'\n",
            "'Curriculum Vitae_BIRS_OLIVIA DOVOEDO.pdf'\n",
            "'Curriculum Vitae DOVOEDO F. Imelda Olivia Murielle (1).pdf'\n",
            "'Curriculum Vitae DOVOEDO F. Imelda Olivia Murielle.pdf'\n",
            "'Curriculum vitae_DOVOEDO F. IMELDA OLIVIA MURIELLE_Stage assistants de projets_AUF.pdf'\n",
            "'CV-DOVOEDO F. Imelda Olivia M..pdf'\n",
            "'CV Olivia DOVOEDcrs.pdf'\n",
            "'CV Olivia DOVOEDO (1).pdf'\n",
            "'CV Olivia DOVOEDO.pdf'\n",
            "'Diplôme licence DOVOEDO F. Imelda Olivia Murielle.pdf'\n",
            " DOC-20240130-WA0017\n",
            " DOC-20240418-WA0161\n",
            "'Document _Projet_Nelly_HG.docx'\n",
            "'Document sans titre.gdoc'\n",
            "'Données_PTA 2023_DOVOEDO Fèmi Olivia.xlsx'\n",
            "'Exposé ACP-UE -final -paginé.doc'\n",
            "'EXPOSE DEFINITIF.doc'\n",
            "'Financement du terrorisme.docx'\n",
            " FlightDelays.csv\n",
            "\u001b[01;34m'formation aips'\u001b[0m/\n",
            "'Formulaire sans titre (1).gform'\n",
            "\u001b[01;34m'Formulaire sans titre (File responses)'\u001b[0m/\n",
            "\u001b[01;34m'Formulaire sans titre (File responses) (1)'\u001b[0m/\n",
            "'Formulaire sans titre.gform'\n",
            "'Formulaire sans titre (réponses).gsheet'\n",
            "'ID_Femi Imelda Olivia Murielle Dovoedo.pdf'\n",
            " IMG-20210914-WA0001.jpg\n",
            " imm5257b_1.pdf\n",
            "'Inscription pour recevoir un t-shirt.gform'\n",
            "'Introduction- conclusion.pdf'\n",
            "'JIF 2014.ppt'\n",
            "'Lettre de motivation CRS  (1).pdf'\n",
            "'Lettre de motivation CRS .pdf'\n",
            "'lettre de motivation DOVOEDO F. Imelda Olivia Murielle_Stagiaire Assistante de projets_AUF.pdf'\n",
            "'Lettre de RECOMMANDATION OD_Bourse étude AFYWL PNUD sign.gdoc'\n",
            "'Lettre de RECOMMANDATION OD_Bourse étude AFYWL PNUD sign.pdf'\n",
            "'Liste de tâches (1).gsheet'\n",
            "'Liste de tâches (2).gsheet'\n",
            "'Liste de tâches.gsheet'\n",
            "'Mémoire_Diapo.. (2).ppt'\n",
            "'Mémoire fèmi 301219.doc'\n",
            "'Mondialisation et régionalisation.docx'\n",
            "'Nouveau document 2020-02-14 16.42.46'\n",
            "'ocs formation.ppt'\n",
            "'offensive chinoise en afrique.doc'\n",
            " PC200041.JPG\n",
            "'POINT ANCRAGE INSTITUTIONNEL.docx'\n",
            "\u001b[01;34m'point évaluation'\u001b[0m/\n",
            "'PRE08-14-2016 - Le combat de la foi - dimanche 14 août  2016.doc'\n",
            "'Présentation TDR evaluation qualité fourniture énergie.ppt'\n",
            "'Présentation TDR evaluation qualité fourniture énergie.ppt.gslides'\n",
            "'Projets de lettre à signer par le ME.zip'\n",
            "'Python Fundamentals with PyCharm File-Zeleus 04-22-2024.pdf'\n",
            "'relevé de note licence (1).pdf'\n",
            "'relevé de note licence (2).pdf'\n",
            "'relevé de note licence (3).pdf'\n",
            "'relevé de note licence.pdf'\n",
            "'Réunion de section du 16 Novembre 2020 MK.docx'\n",
            "'Schermafbeelding 2020-07-08 om 12.43.34.png'\n",
            " unknown\n",
            "'unknown (1)'\n",
            "'Vos coordonnées (1).gform'\n",
            "'Vos coordonnées.gform'\n"
          ]
        }
      ]
    },
    {
      "cell_type": "code",
      "source": [],
      "metadata": {
        "id": "gSMMAsDBjHsC"
      },
      "execution_count": null,
      "outputs": []
    },
    {
      "cell_type": "markdown",
      "source": [
        "### Start tutorial\n",
        "We will use :\n",
        "https://d31kydh6n6r5j5.cloudfront.net/uploads/sites/66/2019/04/RPlot.pdf https://d31kydh6n6r5j5.cloudfront.net/uploads/sites/66/2019/04/RStart.pdf"
      ],
      "metadata": {
        "id": "kmHVfb2wotSA"
      }
    },
    {
      "cell_type": "markdown",
      "source": [
        "## Simple arithmétique"
      ],
      "metadata": {
        "id": "9FtQtYeF5jyY"
      }
    },
    {
      "cell_type": "code",
      "source": [
        "# Import necessary libraries\n",
        "import pandas as pd\n",
        "import numpy as np\n",
        "import matplotlib.pyplot as plt\n",
        "import seaborn as sns"
      ],
      "metadata": {
        "id": "NXnmjCc3p3Xy"
      },
      "execution_count": null,
      "outputs": []
    },
    {
      "cell_type": "code",
      "source": [
        "print(4*9)\n",
        "#print(3+2 *(8-4) # invalid syntax\n",
        "print(3+2*(8-4)) # correct syntax\n"
      ],
      "metadata": {
        "colab": {
          "base_uri": "https://localhost:8080/"
        },
        "id": "1gQtNjBgt6rR",
        "outputId": "7c587ac5-0754-4720-d4bc-bd883411af3f"
      },
      "execution_count": null,
      "outputs": [
        {
          "output_type": "stream",
          "name": "stdout",
          "text": [
            "36\n",
            "11\n"
          ]
        }
      ]
    },
    {
      "cell_type": "code",
      "source": [
        "# Create a sequence incrementing\n",
        "# Sequence from 20 to 30 incrementing by 1\n",
        "seq1 = np.arange(20, 31, 1)\n",
        "print(seq1)\n",
        "# Sequence from 2.5 to -3.5 decrementing by 1\n",
        "seq2 = np.arange(2.5, -3.6, -1)\n",
        "print(seq2)"
      ],
      "metadata": {
        "colab": {
          "base_uri": "https://localhost:8080/"
        },
        "id": "wXsGty0Tvcvk",
        "outputId": "6788189e-a9f6-4bd5-aa44-10752f396a2a"
      },
      "execution_count": null,
      "outputs": [
        {
          "output_type": "stream",
          "name": "stdout",
          "text": [
            "[20 21 22 23 24 25 26 27 28 29 30]\n",
            "[ 2.5  1.5  0.5 -0.5 -1.5 -2.5 -3.5]\n"
          ]
        }
      ]
    },
    {
      "cell_type": "code",
      "source": [
        "# create a vector dog with 5 components\n",
        "dog = np.arange(1, 6)\n",
        "print(dog)"
      ],
      "metadata": {
        "colab": {
          "base_uri": "https://localhost:8080/"
        },
        "id": "W0YSi6W4yucx",
        "outputId": "45610054-6ce9-4709-80f7-b7c56ccf7044"
      },
      "execution_count": null,
      "outputs": [
        {
          "output_type": "stream",
          "name": "stdout",
          "text": [
            "[1 2 3 4 5]\n"
          ]
        }
      ]
    },
    {
      "cell_type": "code",
      "source": [
        "# add number to dog\n",
        "print(dog + 10)"
      ],
      "metadata": {
        "colab": {
          "base_uri": "https://localhost:8080/"
        },
        "id": "nqzrBf-c1O1s",
        "outputId": "e21960b1-b931-43e5-a150-83593b12ed73"
      },
      "execution_count": null,
      "outputs": [
        {
          "output_type": "stream",
          "name": "stdout",
          "text": [
            "[11 12 13 14 15]\n"
          ]
        }
      ]
    },
    {
      "cell_type": "code",
      "source": [
        "# multiply the component of the vector by 3\n",
        "print(dog * 3)"
      ],
      "metadata": {
        "colab": {
          "base_uri": "https://localhost:8080/"
        },
        "id": "VioW2Ui83ZwF",
        "outputId": "28b9a42d-361a-4b5b-8b28-5d30d568ba62"
      },
      "execution_count": null,
      "outputs": [
        {
          "output_type": "stream",
          "name": "stdout",
          "text": [
            "[ 3  6  9 12 15]\n"
          ]
        }
      ]
    },
    {
      "cell_type": "code",
      "source": [
        "# Sum component of dog\n",
        "print(np.sum(dog))"
      ],
      "metadata": {
        "colab": {
          "base_uri": "https://localhost:8080/"
        },
        "id": "6aruM0Po3wQI",
        "outputId": "6056bb2c-764d-43c4-b0a3-5a610fd6cc30"
      },
      "execution_count": null,
      "outputs": [
        {
          "output_type": "stream",
          "name": "stdout",
          "text": [
            "15\n"
          ]
        }
      ]
    },
    {
      "cell_type": "markdown",
      "source": [
        "## Importing a data"
      ],
      "metadata": {
        "id": "-7VbiUu16NI0"
      }
    },
    {
      "cell_type": "code",
      "source": [
        "pwd"
      ],
      "metadata": {
        "colab": {
          "base_uri": "https://localhost:8080/",
          "height": 36
        },
        "id": "fTv-Oiwn6RhA",
        "outputId": "89d6bd57-fe7c-4b5d-8809-650421f5cbd6"
      },
      "execution_count": null,
      "outputs": [
        {
          "output_type": "execute_result",
          "data": {
            "text/plain": [
              "'/content/drive/MyDrive'"
            ],
            "application/vnd.google.colaboratory.intrinsic+json": {
              "type": "string"
            }
          },
          "metadata": {},
          "execution_count": 27
        }
      ]
    },
    {
      "cell_type": "code",
      "source": [
        "ls"
      ],
      "metadata": {
        "colab": {
          "base_uri": "https://localhost:8080/"
        },
        "collapsed": true,
        "id": "smr9wS906spr",
        "outputId": "1e04a42f-2930-417a-d0f6-c3aa38cc85a3"
      },
      "execution_count": null,
      "outputs": [
        {
          "output_type": "stream",
          "name": "stdout",
          "text": [
            " 14246.pdf\n",
            "'2020_PNUD_TDR_Budget bon_ Loi Cadre sur la planification_ atelier de prévalidation _PAI PMA.doc'\n",
            " 3ie_policy_window_query_form.docx\n",
            "'Agent_P DOVOEDO F. IMELDA OLIVIA M..gdoc'\n",
            "'Agent_P DOVOEDO F. IMELDA OLIVIA M..pdf'\n",
            "'AI Engineering - Intro to Python.gdoc'\n",
            " \u001b[0m\u001b[01;34maips\u001b[0m/\n",
            "'AIPS_EN BREF_ODJOUBE.pptx'\n",
            " Appointment\n",
            "'Attestation de fin de stage-giz- DOVOEDO F. Imelda Olivia Murielle.pdf'\n",
            "'Attestationfin de stage dge DOVOEDO F. Imelda Olivia Murielle.pdf'\n",
            "'Attestation provisoire master gestion des projets_Femi Imelda Olivia Murielle Dovoedo.pdf'\n",
            "'Attestation provisoire master PGP Olivia DOVOEDO.jpg'\n",
            "'Avis de recrutement de CT MR GBE.pdf'\n",
            " \u001b[01;34mbourse\u001b[0m/\n",
            "'Budget mensuel (1).gsheet'\n",
            "'Budget mensuel (2).gsheet'\n",
            "'Budget mensuel.gsheet'\n",
            "'Candidature DOVOEDO F. Imelda Olivia Murielle_bourse IRS BENIN_Att Stage (1).pdf'\n",
            "'Candidature DOVOEDO F. Imelda Olivia Murielle_bourse IRS BENIN_Att Stage (2).pdf'\n",
            "'Candidature DOVOEDO F. Imelda Olivia Murielle_bourse IRS BENIN_Att Stage (3).pdf'\n",
            "'Candidature DOVOEDO F. Imelda Olivia Murielle_bourse IRS BENIN_Att Stage.pdf'\n",
            "'Candidature DOVOEDO F. Imelda Olivia Murielle_bourse IRS BENIN_CI (1).pdf'\n",
            "'Candidature DOVOEDO F. Imelda Olivia Murielle_bourse IRS BENIN_CI (2).pdf'\n",
            "'Candidature DOVOEDO F. Imelda Olivia Murielle_bourse IRS BENIN_CI.pdf'\n",
            "'Candidature DOVOEDO F. Imelda Olivia Murielle_bourse IRS BENIN_Dip (1).pdf'\n",
            "'Candidature DOVOEDO F. Imelda Olivia Murielle_bourse IRS BENIN_Dip (2).pdf'\n",
            "'Candidature DOVOEDO F. Imelda Olivia Murielle_bourse IRS BENIN_Dip (3).pdf'\n",
            "'Candidature DOVOEDO F. Imelda Olivia Murielle_bourse IRS BENIN_Dip.pdf'\n",
            "'Candidature DOVOEDO F. Imelda Olivia Murielle_bourse IRS BENIN_Lettre de motivation (1).pdf'\n",
            "'Candidature DOVOEDO F. Imelda Olivia Murielle_bourse IRS BENIN_Lettre de motivation (2).pdf'\n",
            "'Candidature DOVOEDO F. Imelda Olivia Murielle_bourse IRS BENIN_Lettre de motivation.pdf'\n",
            "'Candidature DOVOEDO F. Imelda Olivia Murielle_jvps (1).pdf'\n",
            "'Candidature_DOVOEDO F. Imelda Olivia Murielle_JVPS (1).pdf'\n",
            "'Candidature DOVOEDO F. Imelda Olivia Murielle_jvps.pdf'\n",
            "'Candidature_DOVOEDO F. Imelda Olivia Murielle_JVPS.pdf'\n",
            "'Candidature DOVOEDO F. Imelda Olivia Murielle_jvps.xps'\n",
            " changement_climatq.doc\n",
            "\u001b[01;34m'Colab Notebooks'\u001b[0m/\n",
            "'Compétitivité des entreprises béninoises .docx'\n",
            "'Copie de Diagramme de Gantt Template Olivia.gsheet'\n",
            "'Copie de GANTT Olivia.gsheet'\n",
            "'Copie de Présentation soutenance client - gérez un projet digital en cascade_olivia.gslides'\n",
            "'Crise économique dans la zone euro  Causes et conséquences pour les pays africains zone vf.docx'\n",
            "'Curriculum Vitae_BIRS_OLIVIA DOVOEDO (1).pdf'\n",
            "'Curriculum Vitae_BIRS_OLIVIA DOVOEDO.pdf'\n",
            "'Curriculum Vitae DOVOEDO F. Imelda Olivia Murielle (1).pdf'\n",
            "'Curriculum Vitae DOVOEDO F. Imelda Olivia Murielle.pdf'\n",
            "'Curriculum vitae_DOVOEDO F. IMELDA OLIVIA MURIELLE_Stage assistants de projets_AUF.pdf'\n",
            "'CV-DOVOEDO F. Imelda Olivia M..pdf'\n",
            "'CV Olivia DOVOEDcrs.pdf'\n",
            "'CV Olivia DOVOEDO (1).pdf'\n",
            "'CV Olivia DOVOEDO.pdf'\n",
            "'Diplôme licence DOVOEDO F. Imelda Olivia Murielle.pdf'\n",
            " DOC-20240130-WA0017\n",
            " DOC-20240418-WA0161\n",
            "'Document _Projet_Nelly_HG.docx'\n",
            "'Document sans titre.gdoc'\n",
            "'Données_PTA 2023_DOVOEDO Fèmi Olivia.xlsx'\n",
            "'Exposé ACP-UE -final -paginé.doc'\n",
            "'EXPOSE DEFINITIF.doc'\n",
            "'Financement du terrorisme.docx'\n",
            " FlightDelays.csv\n",
            "\u001b[01;34m'formation aips'\u001b[0m/\n",
            "'Formulaire sans titre (1).gform'\n",
            "\u001b[01;34m'Formulaire sans titre (File responses)'\u001b[0m/\n",
            "\u001b[01;34m'Formulaire sans titre (File responses) (1)'\u001b[0m/\n",
            "'Formulaire sans titre.gform'\n",
            "'Formulaire sans titre (réponses).gsheet'\n",
            "'ID_Femi Imelda Olivia Murielle Dovoedo.pdf'\n",
            " IMG-20210914-WA0001.jpg\n",
            " imm5257b_1.pdf\n",
            "'Inscription pour recevoir un t-shirt.gform'\n",
            "'Introduction- conclusion.pdf'\n",
            "'JIF 2014.ppt'\n",
            "'Lettre de motivation CRS  (1).pdf'\n",
            "'Lettre de motivation CRS .pdf'\n",
            "'lettre de motivation DOVOEDO F. Imelda Olivia Murielle_Stagiaire Assistante de projets_AUF.pdf'\n",
            "'Lettre de RECOMMANDATION OD_Bourse étude AFYWL PNUD sign.gdoc'\n",
            "'Lettre de RECOMMANDATION OD_Bourse étude AFYWL PNUD sign.pdf'\n",
            "'Liste de tâches (1).gsheet'\n",
            "'Liste de tâches (2).gsheet'\n",
            "'Liste de tâches.gsheet'\n",
            "'Mémoire_Diapo.. (2).ppt'\n",
            "'Mémoire fèmi 301219.doc'\n",
            "'Mondialisation et régionalisation.docx'\n",
            "'Nouveau document 2020-02-14 16.42.46'\n",
            "'ocs formation.ppt'\n",
            "'offensive chinoise en afrique.doc'\n",
            " PC200041.JPG\n",
            "'POINT ANCRAGE INSTITUTIONNEL.docx'\n",
            "\u001b[01;34m'point évaluation'\u001b[0m/\n",
            "'PRE08-14-2016 - Le combat de la foi - dimanche 14 août  2016.doc'\n",
            "'Présentation TDR evaluation qualité fourniture énergie.ppt'\n",
            "'Présentation TDR evaluation qualité fourniture énergie.ppt.gslides'\n",
            "'Projets de lettre à signer par le ME.zip'\n",
            "'Python Fundamentals with PyCharm File-Zeleus 04-22-2024.pdf'\n",
            "'relevé de note licence (1).pdf'\n",
            "'relevé de note licence (2).pdf'\n",
            "'relevé de note licence (3).pdf'\n",
            "'relevé de note licence.pdf'\n",
            "'Réunion de section du 16 Novembre 2020 MK.docx'\n",
            "'Schermafbeelding 2020-07-08 om 12.43.34.png'\n",
            " unknown\n",
            "'unknown (1)'\n",
            "'Vos coordonnées (1).gform'\n",
            "'Vos coordonnées.gform'\n"
          ]
        }
      ]
    },
    {
      "cell_type": "code",
      "source": [
        "# Read in the FlightDelays Data\n",
        "FlightDelays = pd.read_csv(\"/content/drive/MyDrive/FlightDelays.csv\")"
      ],
      "metadata": {
        "id": "4MwqXR9zEU_L"
      },
      "execution_count": null,
      "outputs": []
    },
    {
      "cell_type": "code",
      "source": [
        "# Check the size (dimension) of the data frame (How many row and how many clolumn)\n",
        "dimensions = FlightDelays.shape\n",
        "print(dimensions)"
      ],
      "metadata": {
        "colab": {
          "base_uri": "https://localhost:8080/"
        },
        "id": "EG433CxgFv1F",
        "outputId": "b6046db3-e197-4e93-a693-ff6ecf1dccac"
      },
      "execution_count": null,
      "outputs": [
        {
          "output_type": "stream",
          "name": "stdout",
          "text": [
            "(4029, 10)\n"
          ]
        }
      ]
    },
    {
      "cell_type": "code",
      "source": [
        "# To check column headings\n",
        "print(FlightDelays.columns)"
      ],
      "metadata": {
        "colab": {
          "base_uri": "https://localhost:8080/"
        },
        "id": "A3v_CXX7G21R",
        "outputId": "16540f21-fb70-4e34-d16d-03a82ec210c0"
      },
      "execution_count": null,
      "outputs": [
        {
          "output_type": "stream",
          "name": "stdout",
          "text": [
            "Index(['ID', 'Carrier', 'FlightNo', 'Destination', 'DepartTime', 'Day',\n",
            "       'Month', 'FlightLength', 'Delay', 'Delayed30'],\n",
            "      dtype='object')\n"
          ]
        }
      ]
    },
    {
      "cell_type": "code",
      "source": [
        "# To check first few rows\n",
        "print(FlightDelays.head())"
      ],
      "metadata": {
        "colab": {
          "base_uri": "https://localhost:8080/"
        },
        "id": "xsZDWZAFHujp",
        "outputId": "14e05733-89ba-4dbc-f8a8-87c24a7c583f"
      },
      "execution_count": null,
      "outputs": [
        {
          "output_type": "stream",
          "name": "stdout",
          "text": [
            "   ID Carrier  FlightNo Destination DepartTime  Day Month  FlightLength  \\\n",
            "0   1      UA       403         DEN      4-8am  Fri   May           281   \n",
            "1   2      UA       405         DEN     8-Noon  Fri   May           277   \n",
            "2   3      UA       409         DEN      4-8pm  Fri   May           279   \n",
            "3   4      UA       511         ORD     8-Noon  Fri   May           158   \n",
            "4   5      UA       667         ORD      4-8am  Fri   May           143   \n",
            "\n",
            "   Delay Delayed30  \n",
            "0     -1        No  \n",
            "1    102       Yes  \n",
            "2      4        No  \n",
            "3     -2        No  \n",
            "4     -3        No  \n"
          ]
        }
      ]
    },
    {
      "cell_type": "markdown",
      "source": [
        "## Data model, data layout, data dictionary, factor and facts and categorical variables, measures and numerical variables."
      ],
      "metadata": {
        "id": "EzEaLC19L81Y"
      }
    },
    {
      "cell_type": "code",
      "source": [
        "# To compute the histogram of Destination\n",
        "print(FlightDelays['Destination'].value_counts())"
      ],
      "metadata": {
        "colab": {
          "base_uri": "https://localhost:8080/"
        },
        "id": "UiWx5Uz-MC1J",
        "outputId": "152ccea4-a01f-4bb7-b272-07cd81cdba6f"
      },
      "execution_count": null,
      "outputs": [
        {
          "output_type": "stream",
          "name": "stdout",
          "text": [
            "Destination\n",
            "ORD    1785\n",
            "DFW     918\n",
            "MIA     610\n",
            "DEN     264\n",
            "STL     225\n",
            "BNA     172\n",
            "IAD      55\n",
            "Name: count, dtype: int64\n"
          ]
        }
      ]
    },
    {
      "cell_type": "code",
      "source": [
        "# To Plot the histogram of Destination\n",
        "FlightDelays['Destination'].value_counts().sort_values().plot(kind='bar')\n",
        "plt.show()"
      ],
      "metadata": {
        "colab": {
          "base_uri": "https://localhost:8080/",
          "height": 468
        },
        "id": "8PieLZJYOUVc",
        "outputId": "1de458c0-8c07-4b00-e41f-a7af551f5c3e"
      },
      "execution_count": null,
      "outputs": [
        {
          "output_type": "display_data",
          "data": {
            "text/plain": [
              "<Figure size 640x480 with 1 Axes>"
            ],
            "image/png": "[encoded data removed]"
          },
          "metadata": {}
        }
      ]
    },
    {
      "cell_type": "code",
      "source": [
        "# To Compare two categorical variables\n",
        "# Create the contingency table\n",
        "contingency_table = pd.crosstab(FlightDelays['Destination'], FlightDelays['Delayed30'])\n",
        "\n",
        "# # Display the contingency table\n",
        "print(contingency_table)"
      ],
      "metadata": {
        "colab": {
          "base_uri": "https://localhost:8080/"
        },
        "id": "-6yrkqn_l1Vx",
        "outputId": "7eae1563-7503-4837-89bb-d0b2c7a35096"
      },
      "execution_count": null,
      "outputs": [
        {
          "output_type": "stream",
          "name": "stdout",
          "text": [
            "Delayed30      No  Yes\n",
            "Destination           \n",
            "BNA           153   19\n",
            "DEN           226   38\n",
            "DFW           818  100\n",
            "IAD            40   15\n",
            "MIA           489  121\n",
            "ORD          1505  280\n",
            "STL           201   24\n"
          ]
        }
      ]
    },
    {
      "cell_type": "code",
      "source": [
        "# save a delay column as a vector\n",
        "delay = FlightDelays['Delay']"
      ],
      "metadata": {
        "id": "bEnzVnzdgR7a"
      },
      "execution_count": null,
      "outputs": []
    },
    {
      "cell_type": "code",
      "source": [
        "# Key Statistical Functions\n",
        "# To find the mean and median of a variable Delay\n",
        "print(delay.mean())\n",
        "print(delay.median())"
      ],
      "metadata": {
        "colab": {
          "base_uri": "https://localhost:8080/"
        },
        "id": "OpZoUR9zoQc4",
        "outputId": "d4a7a9ea-61e1-47da-b610-a8ac248fafea"
      },
      "execution_count": null,
      "outputs": [
        {
          "output_type": "stream",
          "name": "stdout",
          "text": [
            "11.73790022338049\n",
            "-3.0\n"
          ]
        }
      ]
    },
    {
      "cell_type": "code",
      "source": [
        "# To find the maximum and minimum a variable 'Delay'\n",
        "print(delay.max())\n",
        "print(delay.min())\n",
        "# Calculate the range of the 'Delay' column\n",
        "delay_range = delay.max() - delay.min()\n",
        "print(delay_range)"
      ],
      "metadata": {
        "colab": {
          "base_uri": "https://localhost:8080/"
        },
        "id": "55M7HV-upvHG",
        "outputId": "58424feb-9014-4631-aabf-4fcfb64c96ca"
      },
      "execution_count": null,
      "outputs": [
        {
          "output_type": "stream",
          "name": "stdout",
          "text": [
            "693\n",
            "-19\n",
            "712\n"
          ]
        }
      ]
    },
    {
      "cell_type": "code",
      "source": [
        "# To find the sample variance or the sample standard deviation\n",
        "print(delay.var())\n",
        "print(delay.std())"
      ],
      "metadata": {
        "colab": {
          "base_uri": "https://localhost:8080/"
        },
        "id": "4VCZkwrYqXlO",
        "outputId": "e8aba0e2-4bf9-4965-9b5d-7c13486f48e6"
      },
      "execution_count": null,
      "outputs": [
        {
          "output_type": "stream",
          "name": "stdout",
          "text": [
            "1733.0981188271821\n",
            "41.63049505863679\n"
          ]
        }
      ]
    },
    {
      "cell_type": "code",
      "source": [
        "# To Calculate the 25th and 75th percentiles\n",
        "q25, q75 = np.percentile(delay, [25, 75])"
      ],
      "metadata": {
        "id": "HZZX1QZEq5nA"
      },
      "execution_count": null,
      "outputs": []
    },
    {
      "cell_type": "code",
      "source": [
        "# Filter the data within the interquartile range\n",
        "delay_trimmed = delay[(delay >= q25) & (delay <= q75)]\n",
        "# Calculate the mean of the trimmed data\n",
        "trimmed_mean = delay_trimmed.mean()\n",
        "\n",
        "print(trimmed_mean)"
      ],
      "metadata": {
        "colab": {
          "base_uri": "https://localhost:8080/"
        },
        "id": "AhkouBENvF6P",
        "outputId": "d8b39ef0-fcbc-4052-b3ba-8b66e2a74863"
      },
      "execution_count": null,
      "outputs": [
        {
          "output_type": "stream",
          "name": "stdout",
          "text": [
            "-2.530820399113082\n"
          ]
        }
      ]
    },
    {
      "cell_type": "code",
      "source": [
        "# If you need the population variance (that is, denominator of 1/n instead of 1/(n-1)),\n",
        "n = len(delay)\n",
        "print((n-1)/n * delay.var())  # population variance"
      ],
      "metadata": {
        "id": "ibcpjWneveSI",
        "colab": {
          "base_uri": "https://localhost:8080/"
        },
        "outputId": "0ac03def-1ec1-41f8-d2b1-0561b9819871"
      },
      "execution_count": null,
      "outputs": [
        {
          "output_type": "stream",
          "name": "stdout",
          "text": [
            "1732.6679629277462\n"
          ]
        }
      ]
    },
    {
      "cell_type": "code",
      "source": [
        "# We can also have population variance by:\n",
        "np.var(delay)"
      ],
      "metadata": {
        "colab": {
          "base_uri": "https://localhost:8080/"
        },
        "id": "26AhXuJJ7JGy",
        "outputId": "1a2c135b-8716-4552-a5ca-be57954d3fa6"
      },
      "execution_count": null,
      "outputs": [
        {
          "output_type": "execute_result",
          "data": {
            "text/plain": [
              "1732.6679629277462"
            ]
          },
          "metadata": {},
          "execution_count": 43
        }
      ]
    },
    {
      "cell_type": "code",
      "source": [
        "# If you need the sample variance( that is denominator 1/(n-1)\n",
        "sample_variance = np.var(delay, ddof=1)\n",
        "\n",
        "print(\"Sample Variance (numpy):\", sample_variance)"
      ],
      "metadata": {
        "colab": {
          "base_uri": "https://localhost:8080/"
        },
        "id": "AQMkI7L07hyk",
        "outputId": "f5d91b02-ba0c-4f2a-edca-3479d62fd852"
      },
      "execution_count": null,
      "outputs": [
        {
          "output_type": "stream",
          "name": "stdout",
          "text": [
            "Sample Variance (numpy): 1733.0981188271821\n"
          ]
        }
      ]
    },
    {
      "cell_type": "code",
      "source": [
        "# Apply a statistical function to a column\n",
        "# Breaking down the data by values of a factor variable\n",
        "print(FlightDelays.groupby('Carrier')['Delay'].mean())"
      ],
      "metadata": {
        "colab": {
          "base_uri": "https://localhost:8080/"
        },
        "id": "idcnAeH084gm",
        "outputId": "06fda2b2-7b0b-4a37-8b2a-9d3323f47a4f"
      },
      "execution_count": null,
      "outputs": [
        {
          "output_type": "stream",
          "name": "stdout",
          "text": [
            "Carrier\n",
            "AA    10.097385\n",
            "UA    15.983081\n",
            "Name: Delay, dtype: float64\n"
          ]
        }
      ]
    },
    {
      "cell_type": "code",
      "source": [
        "print(delay.describe())  # numeric summary"
      ],
      "metadata": {
        "colab": {
          "base_uri": "https://localhost:8080/"
        },
        "id": "8dd6Py_U9_Hm",
        "outputId": "4031647f-7149-4f51-8228-ff9f96f29c83"
      },
      "execution_count": null,
      "outputs": [
        {
          "output_type": "stream",
          "name": "stdout",
          "text": [
            "count    4029.000000\n",
            "mean       11.737900\n",
            "std        41.630495\n",
            "min       -19.000000\n",
            "25%        -6.000000\n",
            "50%        -3.000000\n",
            "75%         5.000000\n",
            "max       693.000000\n",
            "Name: Delay, dtype: float64\n"
          ]
        }
      ]
    },
    {
      "cell_type": "code",
      "source": [
        "# To creates a boxplot 'delay'\n",
        "plt.boxplot(delay)\n",
        "# Show the plot\n",
        "plt.show()"
      ],
      "metadata": {
        "colab": {
          "base_uri": "https://localhost:8080/",
          "height": 430
        },
        "id": "IsloEXqeAOlM",
        "outputId": "51b12480-01ed-4ec6-eb44-9280203953b4"
      },
      "execution_count": null,
      "outputs": [
        {
          "output_type": "display_data",
          "data": {
            "text/plain": [
              "<Figure size 640x480 with 1 Axes>"
            ],
            "image/png": "[encoded data removed]"
          },
          "metadata": {}
        }
      ]
    },
    {
      "cell_type": "code",
      "source": [
        "# Assuming 'delay' is a list or array containing the data\n",
        "sns.violinplot(delay)\n",
        "# Show the plot\n",
        "plt.show()"
      ],
      "metadata": {
        "colab": {
          "base_uri": "https://localhost:8080/",
          "height": 411
        },
        "id": "tNXaH1sTBgqO",
        "outputId": "5f555b9f-fe1a-4857-e40c-8c754cb6f5cc"
      },
      "execution_count": null,
      "outputs": [
        {
          "output_type": "display_data",
          "data": {
            "text/plain": [
              "<Figure size 640x480 with 1 Axes>"
            ],
            "image/png": "[encoded data removed]"
          },
          "metadata": {}
        }
      ]
    },
    {
      "cell_type": "code",
      "source": [
        "# To compare the distribution of a numeric variable across the levels of a factor variable\n",
        "print(FlightDelays.groupby('Day')['Delay'].describe())"
      ],
      "metadata": {
        "colab": {
          "base_uri": "https://localhost:8080/"
        },
        "id": "k7M_rTB0DC5I",
        "outputId": "e1489d3f-6701-468b-9d57-4c82781424e4"
      },
      "execution_count": null,
      "outputs": [
        {
          "output_type": "stream",
          "name": "stdout",
          "text": [
            "     count       mean        std   min  25%  50%    75%    max\n",
            "Day                                                           \n",
            "Fri  637.0  20.626374  49.975105 -15.0 -4.0  0.0  24.00  377.0\n",
            "Mon  630.0   5.868254  32.427247 -15.0 -6.0 -3.0   0.00  260.0\n",
            "Sat  453.0   5.450331  29.627112 -17.0 -7.0 -4.0   0.00  240.0\n",
            "Sun  551.0   5.223230  41.548253 -16.0 -6.0 -4.0   0.00  693.0\n",
            "Thu  566.0  21.249117  50.134860 -12.0 -5.0  0.0  26.00  536.0\n",
            "Tue  628.0  13.898089  45.934797 -19.0 -6.0 -2.0   5.00  299.0\n",
            "Wed  564.0   7.719858  28.746264 -17.0 -6.0 -3.0   3.25  214.0\n"
          ]
        }
      ]
    },
    {
      "cell_type": "code",
      "source": [
        "# To creates a boxplot to visualize the distribution of delays grouped by the 'Day' column in the FlightDelays dataset.\n",
        "FlightDelays.boxplot(column='Delay', by='Day')\n",
        "# Show the plot\n",
        "plt.show()"
      ],
      "metadata": {
        "colab": {
          "base_uri": "https://localhost:8080/",
          "height": 478
        },
        "id": "uAcNqTbODuJy",
        "outputId": "a8f18fa2-ec62-4611-e969-ce7e1ee35d3f"
      },
      "execution_count": null,
      "outputs": [
        {
          "output_type": "display_data",
          "data": {
            "text/plain": [
              "<Figure size 640x480 with 1 Axes>"
            ],
            "image/png": "[encoded data removed]"
          },
          "metadata": {}
        }
      ]
    },
    {
      "cell_type": "code",
      "source": [
        "# Assuming FlightDelays is a DataFrame\n",
        "sns.violinplot(x='Day', y='Delay', data=FlightDelays)\n",
        "\n",
        "# Show the plot\n",
        "plt.show()"
      ],
      "metadata": {
        "colab": {
          "base_uri": "https://localhost:8080/",
          "height": 449
        },
        "id": "Y7GeZAa5F9EP",
        "outputId": "79e6579f-0f6c-4331-ae3d-03c8d0396d97"
      },
      "execution_count": null,
      "outputs": [
        {
          "output_type": "display_data",
          "data": {
            "text/plain": [
              "<Figure size 640x480 with 1 Axes>"
            ],
            "image/png": "[encoded data removed]"
          },
          "metadata": {}
        }
      ]
    },
    {
      "cell_type": "code",
      "source": [
        "# Assuming 'FlightDelays' is a pandas DataFrame with columns 'Delay' and 'Day'\n",
        "sns.violinplot(x='Day', y='Delay', data=FlightDelays)\n",
        "plt.show()"
      ],
      "metadata": {
        "colab": {
          "base_uri": "https://localhost:8080/",
          "height": 449
        },
        "id": "lM_I-FzmHHYp",
        "outputId": "d36fccff-36e0-47e2-a32a-752ee999e281"
      },
      "execution_count": null,
      "outputs": [
        {
          "output_type": "display_data",
          "data": {
            "text/plain": [
              "<Figure size 640x480 with 1 Axes>"
            ],
            "image/png": "[encoded data removed]"
          },
          "metadata": {}
        }
      ]
    },
    {
      "cell_type": "code",
      "source": [
        "# Define a custom color palette\n",
        "custom_palette = sns.color_palette(\"husl\", len(FlightDelays['Day'].unique()))\n",
        "\n",
        "# Create the violin plot with the custom color palette\n",
        "sns.violinplot(x='Day', y='Delay', data=FlightDelays, palette=custom_palette)\n",
        "\n",
        "# Show the plot\n",
        "plt.show()"
      ],
      "metadata": {
        "colab": {
          "base_uri": "https://localhost:8080/",
          "height": 560
        },
        "id": "9lfS-GG4Hg6a",
        "outputId": "c2fe5b9a-f5fb-4a0b-81b0-0306c2e3114f"
      },
      "execution_count": null,
      "outputs": [
        {
          "output_type": "stream",
          "name": "stderr",
          "text": [
            "<ipython-input-53-aa9dfb8023e6>:5: FutureWarning: \n",
            "\n",
            "Passing `palette` without assigning `hue` is deprecated and will be removed in v0.14.0. Assign the `x` variable to `hue` and set `legend=False` for the same effect.\n",
            "\n",
            "  sns.violinplot(x='Day', y='Delay', data=FlightDelays, palette=custom_palette)\n"
          ]
        },
        {
          "output_type": "display_data",
          "data": {
            "text/plain": [
              "<Figure size 640x480 with 1 Axes>"
            ],
            "image/png": "[encoded data removed]"
          },
          "metadata": {}
        }
      ]
    },
    {
      "cell_type": "code",
      "source": [
        "# Define a custom color palette\n",
        "custom_palette = sns.color_palette(\"husl\", len(FlightDelays['Day'].unique()))\n",
        "\n",
        "# Create the violin plot with the custom color palette and assign `Day` to `hue`\n",
        "sns.violinplot(x='Day', y='Delay', hue='Day', data=FlightDelays, palette=custom_palette, dodge=False, legend=False)\n",
        "\n",
        "# Remove the duplicated legend\n",
        "plt.legend([],[], frameon=False)\n",
        "\n",
        "# Show the plot\n",
        "plt.show()"
      ],
      "metadata": {
        "colab": {
          "base_uri": "https://localhost:8080/",
          "height": 449
        },
        "id": "9f2Y7x20wm1D",
        "outputId": "10f196e6-3c83-45b4-ff7f-08e4a56f5e6b"
      },
      "execution_count": null,
      "outputs": [
        {
          "output_type": "display_data",
          "data": {
            "text/plain": [
              "<Figure size 640x480 with 1 Axes>"
            ],
            "image/png": "[encoded data removed]"
          },
          "metadata": {}
        }
      ]
    },
    {
      "cell_type": "code",
      "source": [
        "# To creates a boxplot to visualize the distribution of delays grouped by the 'Departime' column in the FlightDelays dataset.\n",
        "print(FlightDelays.groupby('DepartTime')['Delay'].describe())\n",
        "FlightDelays.boxplot(column='Delay', by='DepartTime')\n",
        "plt.show()"
      ],
      "metadata": {
        "colab": {
          "base_uri": "https://localhost:8080/",
          "height": 605
        },
        "id": "AEMBRTn0w2gT",
        "outputId": "73d55343-0f6d-4014-c9d1-e7365cbcf3da"
      },
      "execution_count": null,
      "outputs": [
        {
          "output_type": "stream",
          "name": "stdout",
          "text": [
            "             count       mean        std   min  25%  50%   75%    max\n",
            "DepartTime                                                           \n",
            "4-8am        699.0   0.274678  21.403654 -16.0 -6.0 -3.0  -1.0  311.0\n",
            "4-8pm        972.0  22.529835  49.358043 -17.0 -5.0  0.0  30.0  334.0\n",
            "8-Mid        257.0  29.190661  62.397468 -19.0 -5.0  6.0  46.0  693.0\n",
            "8-Noon      1053.0   4.720798  35.346195 -13.0 -6.0 -4.0   0.0  536.0\n",
            "Noon-4pm    1048.0  12.145038  39.688182 -14.0 -6.0 -2.0   9.0  346.0\n"
          ]
        },
        {
          "output_type": "display_data",
          "data": {
            "text/plain": [
              "<Figure size 640x480 with 1 Axes>"
            ],
            "image/png": "[encoded data removed]"
          },
          "metadata": {}
        }
      ]
    },
    {
      "cell_type": "code",
      "source": [
        "# Assuming FlightDelays is your DataFrame\n",
        "# Create the violin plot with each DepartTime having its own color\n",
        "sns.violinplot(x='DepartTime', y='Delay', data=FlightDelays, palette='Set2')\n",
        "\n",
        "# Remove the duplicated legend\n",
        "plt.legend([],[], frameon=False)\n",
        "\n",
        "# Show the plot\n",
        "plt.show()"
      ],
      "metadata": {
        "colab": {
          "base_uri": "https://localhost:8080/",
          "height": 560
        },
        "id": "t1grtJOlxtq2",
        "outputId": "7c186ec2-58fa-4753-f449-63dae68ad56b"
      },
      "execution_count": null,
      "outputs": [
        {
          "output_type": "stream",
          "name": "stderr",
          "text": [
            "<ipython-input-57-1ed120f4531e>:3: FutureWarning: \n",
            "\n",
            "Passing `palette` without assigning `hue` is deprecated and will be removed in v0.14.0. Assign the `x` variable to `hue` and set `legend=False` for the same effect.\n",
            "\n",
            "  sns.violinplot(x='DepartTime', y='Delay', data=FlightDelays, palette='Set2')\n"
          ]
        },
        {
          "output_type": "display_data",
          "data": {
            "text/plain": [
              "<Figure size 640x480 with 1 Axes>"
            ],
            "image/png": "[encoded data removed]"
          },
          "metadata": {}
        }
      ]
    },
    {
      "cell_type": "code",
      "source": [
        "# Assuming FlightDelays is your DataFrame\n",
        "# Define a custom color palette\n",
        "custom_palette = sns.color_palette(\"Set2\", len(FlightDelays['DepartTime'].unique()))\n",
        "\n",
        "# Create the violin plot with each DepartTime having its own color\n",
        "sns.violinplot(x='DepartTime', y='Delay', hue='DepartTime', data=FlightDelays, palette=custom_palette, dodge=False, legend=False)\n",
        "\n",
        "# Remove the duplicated legend\n",
        "plt.legend([],[], frameon=False)\n",
        "\n",
        "# Show the plot\n",
        "plt.show()"
      ],
      "metadata": {
        "colab": {
          "base_uri": "https://localhost:8080/",
          "height": 449
        },
        "id": "x9rOqHdPyGTw",
        "outputId": "b0727c0f-839d-4b14-855e-9c3de69b6c7d"
      },
      "execution_count": null,
      "outputs": [
        {
          "output_type": "display_data",
          "data": {
            "text/plain": [
              "<Figure size 640x480 with 1 Axes>"
            ],
            "image/png": "[encoded data removed]"
          },
          "metadata": {}
        }
      ]
    },
    {
      "cell_type": "markdown",
      "source": [
        "##Misc. Remarks"
      ],
      "metadata": {
        "id": "aQmDqqsMy3HN"
      }
    },
    {
      "cell_type": "code",
      "source": [
        "# In python, names assign to a data can be any length, must start with a letter, and may contain letters or numbers\n",
        "# create a vector fish25 with components\n",
        "fish25 = np.arange(10, 36)\n",
        "print(fish25)"
      ],
      "metadata": {
        "colab": {
          "base_uri": "https://localhost:8080/"
        },
        "id": "uVS2t6QRy9Rq",
        "outputId": "fbc57d76-75b4-4d0a-c2d8-84fb9154f26d"
      },
      "execution_count": null,
      "outputs": [
        {
          "output_type": "stream",
          "name": "stdout",
          "text": [
            "[10 11 12 13 14 15 16 17 18 19 20 21 22 23 24 25 26 27 28 29 30 31 32 33\n",
            " 34 35]\n"
          ]
        }
      ]
    },
    {
      "cell_type": "code",
      "source": [
        "#To be safe, before making an assignment to a name, defined it.\n",
        "# whale will cause an error if not defined\n",
        "print(whale)"
      ],
      "metadata": {
        "colab": {
          "base_uri": "https://localhost:8080/",
          "height": 182
        },
        "id": "aWUJLRM-0f2T",
        "outputId": "9cdeb896-31c4-4a09-e6a1-9149a8e06854"
      },
      "execution_count": null,
      "outputs": [
        {
          "output_type": "error",
          "ename": "NameError",
          "evalue": "name 'whale' is not defined",
          "traceback": [
            "\u001b[0;31m---------------------------------------------------------------------------\u001b[0m",
            "\u001b[0;31mNameError\u001b[0m                                 Traceback (most recent call last)",
            "\u001b[0;32m<ipython-input-60-789b992dbb72>\u001b[0m in \u001b[0;36m<cell line: 3>\u001b[0;34m()\u001b[0m\n\u001b[1;32m      1\u001b[0m \u001b[0;31m#To be safe, before making an assignment to a name, defined it.\u001b[0m\u001b[0;34m\u001b[0m\u001b[0;34m\u001b[0m\u001b[0m\n\u001b[1;32m      2\u001b[0m \u001b[0;31m# whale will cause an error if not defined\u001b[0m\u001b[0;34m\u001b[0m\u001b[0;34m\u001b[0m\u001b[0m\n\u001b[0;32m----> 3\u001b[0;31m \u001b[0mprint\u001b[0m\u001b[0;34m(\u001b[0m\u001b[0mwhale\u001b[0m\u001b[0;34m)\u001b[0m\u001b[0;34m\u001b[0m\u001b[0;34m\u001b[0m\u001b[0m\n\u001b[0m",
            "\u001b[0;31mNameError\u001b[0m: name 'whale' is not defined"
          ]
        }
      ]
    },
    {
      "cell_type": "code",
      "source": [
        "whale = 200 # Difined whale and assigned it value\n",
        "print(whale)\n",
        "# To print out a list of names (attributes) defined in the current local scope.\n",
        "print(dir())"
      ],
      "metadata": {
        "colab": {
          "base_uri": "https://localhost:8080/"
        },
        "id": "flHN523r1dj4",
        "outputId": "3172cfcd-8740-4d52-d452-cbbb69e707b2"
      },
      "execution_count": null,
      "outputs": [
        {
          "output_type": "stream",
          "name": "stdout",
          "text": [
            "200\n",
            "['FlightDelays', 'In', 'Out', '_', '_12', '_2', '_27', '_43', '__', '___', '__builtin__', '__builtins__', '__doc__', '__loader__', '__name__', '__package__', '__spec__', '_dh', '_exit_code', '_i', '_i1', '_i10', '_i11', '_i12', '_i13', '_i14', '_i15', '_i16', '_i17', '_i18', '_i19', '_i2', '_i20', '_i21', '_i22', '_i23', '_i24', '_i25', '_i26', '_i27', '_i28', '_i29', '_i3', '_i30', '_i31', '_i32', '_i33', '_i34', '_i35', '_i36', '_i37', '_i38', '_i39', '_i4', '_i40', '_i41', '_i42', '_i43', '_i44', '_i45', '_i46', '_i47', '_i48', '_i49', '_i5', '_i50', '_i51', '_i52', '_i53', '_i54', '_i55', '_i56', '_i57', '_i58', '_i59', '_i6', '_i60', '_i61', '_i62', '_i7', '_i8', '_i9', '_ih', '_ii', '_iii', '_oh', 'contingency_table', 'custom_palette', 'delay', 'delay_range', 'delay_trimmed', 'dimensions', 'dog', 'drive', 'exit', 'fish25', 'get_ipython', 'n', 'np', 'pd', 'plt', 'q25', 'q75', 'quit', 'sample_variance', 'seq1', 'seq2', 'sns', 'trimmed_mean', 'whale']\n"
          ]
        }
      ]
    },
    {
      "cell_type": "code",
      "source": [
        "# To remove an object from the environment\n",
        "del whale\n",
        "print(dir())"
      ],
      "metadata": {
        "colab": {
          "base_uri": "https://localhost:8080/"
        },
        "id": "PKhhHkin3Pv7",
        "outputId": "8e5baa58-d46a-4535-e578-a1a750f33fa0"
      },
      "execution_count": null,
      "outputs": [
        {
          "output_type": "stream",
          "name": "stdout",
          "text": [
            "['FlightDelays', 'In', 'Out', '_', '_12', '_2', '_27', '_43', '__', '___', '__builtin__', '__builtins__', '__doc__', '__loader__', '__name__', '__package__', '__spec__', '_dh', '_exit_code', '_i', '_i1', '_i10', '_i11', '_i12', '_i13', '_i14', '_i15', '_i16', '_i17', '_i18', '_i19', '_i2', '_i20', '_i21', '_i22', '_i23', '_i24', '_i25', '_i26', '_i27', '_i28', '_i29', '_i3', '_i30', '_i31', '_i32', '_i33', '_i34', '_i35', '_i36', '_i37', '_i38', '_i39', '_i4', '_i40', '_i41', '_i42', '_i43', '_i44', '_i45', '_i46', '_i47', '_i48', '_i49', '_i5', '_i50', '_i51', '_i52', '_i53', '_i54', '_i55', '_i56', '_i57', '_i58', '_i59', '_i6', '_i60', '_i61', '_i62', '_i63', '_i7', '_i8', '_i9', '_ih', '_ii', '_iii', '_oh', 'contingency_table', 'custom_palette', 'delay', 'delay_range', 'delay_trimmed', 'dimensions', 'dog', 'drive', 'exit', 'fish25', 'get_ipython', 'n', 'np', 'pd', 'plt', 'q25', 'q75', 'quit', 'sample_variance', 'seq1', 'seq2', 'sns', 'trimmed_mean']\n"
          ]
        }
      ]
    },
    {
      "cell_type": "code",
      "source": [
        "# In general, Python is also space-insensitive.\n",
        "print(3 + 4)\n",
        "print(3 +      4)\n",
        "print(np.mean([3 + 5]))\n",
        "print(np.mean([3 +         5]))"
      ],
      "metadata": {
        "colab": {
          "base_uri": "https://localhost:8080/"
        },
        "id": "GnXM1zgY3q7x",
        "outputId": "29b2361c-7f35-452e-f3c7-a119614b82a6"
      },
      "execution_count": null,
      "outputs": [
        {
          "output_type": "stream",
          "name": "stdout",
          "text": [
            "7\n",
            "7\n",
            "8.0\n",
            "8.0\n"
          ]
        }
      ]
    },
    {
      "cell_type": "markdown",
      "source": [
        "## Vectors, arithmetic, and logical values"
      ],
      "metadata": {
        "id": "YWJTV8Ik4YMN"
      }
    },
    {
      "cell_type": "code",
      "source": [
        "#The Python code print(np.arange(1, 11)) uses the NumPy library to create an array containing integers from 1 to 10.\n",
        "print(np.arange(1, 11))"
      ],
      "metadata": {
        "colab": {
          "base_uri": "https://localhost:8080/"
        },
        "id": "n_ozxy2D32dv",
        "outputId": "b9624bed-f4d2-4d0a-bec6-7bf98746ba48"
      },
      "execution_count": null,
      "outputs": [
        {
          "output_type": "stream",
          "name": "stdout",
          "text": [
            "[ 1  2  3  4  5  6  7  8  9 10]\n"
          ]
        }
      ]
    },
    {
      "cell_type": "code",
      "source": [
        "# creates an array containing integers from 5 down to -3, with each value decreasing by 1.\n",
        "print(np.arange(5, -4, -1))"
      ],
      "metadata": {
        "colab": {
          "base_uri": "https://localhost:8080/"
        },
        "id": "bVrCwnlV49-t",
        "outputId": "6c3a2f82-44e9-4830-c12f-5b06b41a9d6a"
      },
      "execution_count": null,
      "outputs": [
        {
          "output_type": "stream",
          "name": "stdout",
          "text": [
            "[ 5  4  3  2  1  0 -1 -2 -3]\n"
          ]
        }
      ]
    },
    {
      "cell_type": "code",
      "source": [
        "# When you run np.linspace(0, 3, 15), it generates an array containing 15 numbers evenly spaced between 0 and 3,\n",
        "#inclusive of both endpoints.\n",
        "print(np.linspace(0, 3, 15))"
      ],
      "metadata": {
        "colab": {
          "base_uri": "https://localhost:8080/"
        },
        "id": "d-pkNvxd5PFf",
        "outputId": "dd9246fd-fd48-41e1-95b9-663fde081aa1"
      },
      "execution_count": null,
      "outputs": [
        {
          "output_type": "stream",
          "name": "stdout",
          "text": [
            "[0.         0.21428571 0.42857143 0.64285714 0.85714286 1.07142857\n",
            " 1.28571429 1.5        1.71428571 1.92857143 2.14285714 2.35714286\n",
            " 2.57142857 2.78571429 3.        ]\n"
          ]
        }
      ]
    },
    {
      "cell_type": "code",
      "source": [
        "# To create vectors with no particular pattern, use the np.array function\n",
        "print(np.array([1, 4, 8, 2, 9]))"
      ],
      "metadata": {
        "colab": {
          "base_uri": "https://localhost:8080/"
        },
        "id": "InAABw6L5uaF",
        "outputId": "de8bd3da-8c52-46aa-bd25-add6302a66db"
      },
      "execution_count": null,
      "outputs": [
        {
          "output_type": "stream",
          "name": "stdout",
          "text": [
            "[1 4 8 2 9]\n"
          ]
        }
      ]
    },
    {
      "cell_type": "code",
      "source": [
        "# Turning a list into a vector\n",
        "x = np.array([3, 0, -4])\n",
        "print(x)"
      ],
      "metadata": {
        "colab": {
          "base_uri": "https://localhost:8080/"
        },
        "id": "q44gPYf259EX",
        "outputId": "4bd044c9-f147-421b-87f0-f5522c4efc60"
      },
      "execution_count": null,
      "outputs": [
        {
          "output_type": "stream",
          "name": "stdout",
          "text": [
            "[ 3  0 -4]\n"
          ]
        }
      ]
    },
    {
      "cell_type": "code",
      "source": [
        "#To concatenates three arrays together into a single array\n",
        "print(np.concatenate([x, np.arange(6), x]))"
      ],
      "metadata": {
        "colab": {
          "base_uri": "https://localhost:8080/"
        },
        "id": "GCDoyd5m6SlG",
        "outputId": "0d341e13-cd30-4f05-c403-cdea6f82627c"
      },
      "execution_count": null,
      "outputs": [
        {
          "output_type": "stream",
          "name": "stdout",
          "text": [
            "[ 3  0 -4  0  1  2  3  4  5  3  0 -4]\n"
          ]
        }
      ]
    },
    {
      "cell_type": "code",
      "source": [
        "#To create a vectors of characters\n",
        "print(np.array([\"a\", \"b\", \"c\", \"d\"]))"
      ],
      "metadata": {
        "colab": {
          "base_uri": "https://localhost:8080/"
        },
        "id": "a2zdpOh77jQj",
        "outputId": "296fad69-e339-4c12-fd42-a743ebd88338"
      },
      "execution_count": null,
      "outputs": [
        {
          "output_type": "stream",
          "name": "stdout",
          "text": [
            "['a' 'b' 'c' 'd']\n"
          ]
        }
      ]
    },
    {
      "cell_type": "code",
      "source": [
        "# logical values\n",
        "print(np.array([True, False, False, True, True, False]))"
      ],
      "metadata": {
        "colab": {
          "base_uri": "https://localhost:8080/"
        },
        "id": "Fq16Npke73Xs",
        "outputId": "632eb607-d2b1-460c-86df-9950bdf03c38"
      },
      "execution_count": null,
      "outputs": [
        {
          "output_type": "stream",
          "name": "stdout",
          "text": [
            "[ True False False  True  True False]\n"
          ]
        }
      ]
    },
    {
      "cell_type": "code",
      "source": [
        "# Run the np.repeat function for repeating values\n",
        "print(np.repeat(\"a\", 5)) # a single value 5 times"
      ],
      "metadata": {
        "colab": {
          "base_uri": "https://localhost:8080/"
        },
        "id": "rx5yX-No8H28",
        "outputId": "1a14f63e-2c52-4de6-d9f3-ae78856b1aba"
      },
      "execution_count": null,
      "outputs": [
        {
          "output_type": "stream",
          "name": "stdout",
          "text": [
            "['a' 'a' 'a' 'a' 'a']\n"
          ]
        }
      ]
    },
    {
      "cell_type": "code",
      "source": [
        "print(np.tile([\"a\", \"b\"], 5)) # each value in the array 5 times"
      ],
      "metadata": {
        "colab": {
          "base_uri": "https://localhost:8080/"
        },
        "id": "3fvgF4LK8Wrd",
        "outputId": "718ef3ac-3ab2-4888-b5ec-deb62ce910da"
      },
      "execution_count": null,
      "outputs": [
        {
          "output_type": "stream",
          "name": "stdout",
          "text": [
            "['a' 'b' 'a' 'b' 'a' 'b' 'a' 'b' 'a' 'b']\n"
          ]
        }
      ]
    },
    {
      "cell_type": "code",
      "source": [
        "print(np.repeat([\"a\", \"b\"], [5, 2])) # repeat \"a\" 5 times and \"b\" 2 times"
      ],
      "metadata": {
        "colab": {
          "base_uri": "https://localhost:8080/"
        },
        "id": "HJWWJpwM8qsb",
        "outputId": "3aab5d4e-a365-4a50-e38f-8b15ef984f4b"
      },
      "execution_count": null,
      "outputs": [
        {
          "output_type": "stream",
          "name": "stdout",
          "text": [
            "['a' 'a' 'a' 'a' 'a' 'b' 'b']\n"
          ]
        }
      ]
    },
    {
      "cell_type": "code",
      "source": [
        "# The \"class\" attribute in Python\n",
        "state_name = pd.Series([\"Alabama\", \"Alaska\", \"Arizona\", \"Arkansas\", \"California\", \"Idaho\"])"
      ],
      "metadata": {
        "id": "pLKQjDuv9P25"
      },
      "execution_count": null,
      "outputs": []
    },
    {
      "cell_type": "code",
      "source": [
        "# To check the type of state_name\n",
        "print(state_name.dtype)"
      ],
      "metadata": {
        "colab": {
          "base_uri": "https://localhost:8080/"
        },
        "id": "0hrp3OOd9zY8",
        "outputId": "be342ea9-259e-4302-d439-651c7601c24c"
      },
      "execution_count": null,
      "outputs": [
        {
          "output_type": "stream",
          "name": "stdout",
          "text": [
            "object\n"
          ]
        }
      ]
    },
    {
      "cell_type": "code",
      "source": [
        "print(state_name == \"Idaho\")"
      ],
      "metadata": {
        "colab": {
          "base_uri": "https://localhost:8080/"
        },
        "id": "j9kcWPFd-UK-",
        "outputId": "0f27f8e7-698b-4acb-ab73-449b9ad1ac27"
      },
      "execution_count": null,
      "outputs": [
        {
          "output_type": "stream",
          "name": "stdout",
          "text": [
            "0    False\n",
            "1    False\n",
            "2    False\n",
            "3    False\n",
            "4    False\n",
            "5     True\n",
            "dtype: bool\n"
          ]
        }
      ]
    },
    {
      "cell_type": "code",
      "source": [
        "print((state_name == \"Idaho\").dtype)"
      ],
      "metadata": {
        "colab": {
          "base_uri": "https://localhost:8080/"
        },
        "id": "4MW7_IjM_G-s",
        "outputId": "59557907-a981-4c24-a1ce-b3f85dca365a"
      },
      "execution_count": null,
      "outputs": [
        {
          "output_type": "stream",
          "name": "stdout",
          "text": [
            "bool\n"
          ]
        }
      ]
    },
    {
      "cell_type": "code",
      "source": [
        "print(FlightDelays['Carrier'].head())"
      ],
      "metadata": {
        "colab": {
          "base_uri": "https://localhost:8080/"
        },
        "id": "psD6VDWn-ufp",
        "outputId": "46b78a75-6080-4e7d-c708-f0b9814d531a"
      },
      "execution_count": null,
      "outputs": [
        {
          "output_type": "stream",
          "name": "stdout",
          "text": [
            "0    UA\n",
            "1    UA\n",
            "2    UA\n",
            "3    UA\n",
            "4    UA\n",
            "Name: Carrier, dtype: object\n"
          ]
        }
      ]
    },
    {
      "cell_type": "code",
      "source": [
        "print(FlightDelays['Carrier'].dtype)"
      ],
      "metadata": {
        "colab": {
          "base_uri": "https://localhost:8080/"
        },
        "id": "C_FTb3yg_Byw",
        "outputId": "4384a334-1073-4338-e752-12db2c3100ac"
      },
      "execution_count": null,
      "outputs": [
        {
          "output_type": "stream",
          "name": "stdout",
          "text": [
            "object\n"
          ]
        }
      ]
    },
    {
      "cell_type": "code",
      "source": [
        "# Basic Arithmetic\n",
        "x = np.arange(1, 6) # assigned 5 values to x\n",
        "print(x)\n",
        "print(x - 3)\n",
        "print(x * 10)\n",
        "print(x / 10)\n",
        "print(x ** 2)\n",
        "print(2 ** x)\n",
        "print(np.log(x))"
      ],
      "metadata": {
        "colab": {
          "base_uri": "https://localhost:8080/"
        },
        "id": "Xz3ocmyg_Orx",
        "outputId": "441629c6-d613-4e41-9d74-a4c004d4a376"
      },
      "execution_count": null,
      "outputs": [
        {
          "output_type": "stream",
          "name": "stdout",
          "text": [
            "[1 2 3 4 5]\n",
            "[-2 -1  0  1  2]\n",
            "[10 20 30 40 50]\n",
            "[0.1 0.2 0.3 0.4 0.5]\n",
            "[ 1  4  9 16 25]\n",
            "[ 2  4  8 16 32]\n",
            "[0.         0.69314718 1.09861229 1.38629436 1.60943791]\n"
          ]
        }
      ]
    },
    {
      "cell_type": "code",
      "source": [
        "w = np.arange(6, 11)\n",
        "print(x)\n",
        "print(w)\n",
        "print(x * w)"
      ],
      "metadata": {
        "colab": {
          "base_uri": "https://localhost:8080/"
        },
        "id": "KRx6c7sg_pAv",
        "outputId": "ad9c0da4-eaf6-41b7-e325-e28d6842dbe9"
      },
      "execution_count": null,
      "outputs": [
        {
          "output_type": "stream",
          "name": "stdout",
          "text": [
            "[1 2 3 4 5]\n",
            "[ 6  7  8  9 10]\n",
            "[ 6 14 24 36 50]\n"
          ]
        }
      ]
    },
    {
      "cell_type": "code",
      "source": [
        "# Logical expressions\n",
        "print(x < 3)\n",
        "print(x == 4)"
      ],
      "metadata": {
        "colab": {
          "base_uri": "https://localhost:8080/"
        },
        "id": "8rDHzWkRACxu",
        "outputId": "31ad600c-fb9d-41a7-9236-c863b8859fe6"
      },
      "execution_count": null,
      "outputs": [
        {
          "output_type": "stream",
          "name": "stdout",
          "text": [
            "[ True  True False False False]\n",
            "[False False False  True False]\n"
          ]
        }
      ]
    },
    {
      "cell_type": "code",
      "source": [
        "# To accesses the element at index 3 of the array z\n",
        "z = np.array([8, 3, 0, 9, 9, 2, 1, 3])\n",
        "print(z[3])"
      ],
      "metadata": {
        "colab": {
          "base_uri": "https://localhost:8080/"
        },
        "id": "aCgKcmbpAJfP",
        "outputId": "40a69a32-7172-4354-d832-1ca1eaa3a0cc"
      },
      "execution_count": null,
      "outputs": [
        {
          "output_type": "stream",
          "name": "stdout",
          "text": [
            "9\n"
          ]
        }
      ]
    },
    {
      "cell_type": "code",
      "source": [
        "print(np.where(z < 4))  # which positions are z values < 4?"
      ],
      "metadata": {
        "colab": {
          "base_uri": "https://localhost:8080/"
        },
        "id": "M3-gRBIOBC6A",
        "outputId": "5d4950dd-3304-4072-d44c-33da9417eb22"
      },
      "execution_count": null,
      "outputs": [
        {
          "output_type": "stream",
          "name": "stdout",
          "text": [
            "(array([1, 2, 5, 6, 7]),)\n"
          ]
        }
      ]
    },
    {
      "cell_type": "code",
      "source": [
        "index = np.where(z < 4)  # store in index"
      ],
      "metadata": {
        "id": "gSoDCcajBJjE"
      },
      "execution_count": null,
      "outputs": []
    },
    {
      "cell_type": "code",
      "source": [
        "z"
      ],
      "metadata": {
        "colab": {
          "base_uri": "https://localhost:8080/"
        },
        "id": "27pnnlX5BTdn",
        "outputId": "db4990ff-4756-4bdf-857c-26491c7dd6eb"
      },
      "execution_count": null,
      "outputs": [
        {
          "output_type": "execute_result",
          "data": {
            "text/plain": [
              "array([8, 3, 0, 9, 9, 2, 1, 3])"
            ]
          },
          "metadata": {},
          "execution_count": 88
        }
      ]
    },
    {
      "cell_type": "code",
      "source": [
        "z[index]"
      ],
      "metadata": {
        "colab": {
          "base_uri": "https://localhost:8080/"
        },
        "id": "IUeYE0p8BX5O",
        "outputId": "59e4a3f9-4834-4c1c-a7c3-fcf12dc724e8"
      },
      "execution_count": null,
      "outputs": [
        {
          "output_type": "execute_result",
          "data": {
            "text/plain": [
              "array([3, 0, 2, 1, 3])"
            ]
          },
          "metadata": {},
          "execution_count": 89
        }
      ]
    },
    {
      "cell_type": "code",
      "source": [
        "print(z[index])"
      ],
      "metadata": {
        "colab": {
          "base_uri": "https://localhost:8080/"
        },
        "id": "pcBfqMHvBeeJ",
        "outputId": "5b8e2d27-b039-4e0c-b8a9-33872f30a450"
      },
      "execution_count": null,
      "outputs": [
        {
          "output_type": "stream",
          "name": "stdout",
          "text": [
            "[3 0 2 1 3]\n"
          ]
        }
      ]
    },
    {
      "cell_type": "code",
      "source": [],
      "metadata": {
        "id": "Dyoxc-n9Bk_5"
      },
      "execution_count": null,
      "outputs": []
    },
    {
      "cell_type": "markdown",
      "source": [
        "## Working with data frames in Python"
      ],
      "metadata": {
        "id": "9vxSfqgSB1a7"
      }
    },
    {
      "cell_type": "code",
      "source": [
        "delay = FlightDelays['Delay']\n",
        "print(delay)  # create a vector delay"
      ],
      "metadata": {
        "colab": {
          "base_uri": "https://localhost:8080/"
        },
        "id": "fkRoxyrNB4SG",
        "outputId": "ad8ca15e-869b-4152-81ff-e320507c2ed0"
      },
      "execution_count": null,
      "outputs": [
        {
          "output_type": "stream",
          "name": "stdout",
          "text": [
            "0        -1\n",
            "1       102\n",
            "2         4\n",
            "3        -2\n",
            "4        -3\n",
            "       ... \n",
            "4024     10\n",
            "4025    160\n",
            "4026    250\n",
            "4027     16\n",
            "4028     -2\n",
            "Name: Delay, Length: 4029, dtype: int64\n"
          ]
        }
      ]
    },
    {
      "cell_type": "code",
      "source": [
        "print(FlightDelays[['Delay']])  # create a DataFrame"
      ],
      "metadata": {
        "colab": {
          "base_uri": "https://localhost:8080/"
        },
        "id": "IeOcMOtaCEUN",
        "outputId": "65b4001e-ac27-47b4-aad5-7e4c74dc7821"
      },
      "execution_count": null,
      "outputs": [
        {
          "output_type": "stream",
          "name": "stdout",
          "text": [
            "      Delay\n",
            "0        -1\n",
            "1       102\n",
            "2         4\n",
            "3        -2\n",
            "4        -3\n",
            "...     ...\n",
            "4024     10\n",
            "4025    160\n",
            "4026    250\n",
            "4027     16\n",
            "4028     -2\n",
            "\n",
            "[4029 rows x 1 columns]\n"
          ]
        }
      ]
    },
    {
      "cell_type": "code",
      "source": [
        "# create a vector delay2\n",
        "delay2 = FlightDelays[FlightDelays['Day'] != \"Mon\"]['Delay']\n",
        "delay2"
      ],
      "metadata": {
        "colab": {
          "base_uri": "https://localhost:8080/"
        },
        "id": "-63ej1DzCnBf",
        "outputId": "9d9a0ab2-5201-4dae-fce2-fd9b637c9a4e"
      },
      "execution_count": null,
      "outputs": [
        {
          "output_type": "execute_result",
          "data": {
            "text/plain": [
              "0        -1\n",
              "1       102\n",
              "2         4\n",
              "3        -2\n",
              "4        -3\n",
              "       ... \n",
              "4024     10\n",
              "4025    160\n",
              "4026    250\n",
              "4027     16\n",
              "4028     -2\n",
              "Name: Delay, Length: 3399, dtype: int64"
            ]
          },
          "metadata": {},
          "execution_count": 93
        }
      ]
    },
    {
      "cell_type": "code",
      "source": [
        "print(delay2.mean())"
      ],
      "metadata": {
        "colab": {
          "base_uri": "https://localhost:8080/"
        },
        "id": "bw7r6qB2C7pP",
        "outputId": "a1f2ed5c-f0d0-4cde-8211-18f794ca9753"
      },
      "execution_count": null,
      "outputs": [
        {
          "output_type": "stream",
          "name": "stdout",
          "text": [
            "12.825831126802\n"
          ]
        }
      ]
    },
    {
      "cell_type": "code",
      "source": [
        "delay3 = FlightDelays[(FlightDelays['Day'] == \"Sat\") | (FlightDelays['Day'] == \"Sun\")]['Delay']\n",
        "\n",
        "print(delay3.mean())"
      ],
      "metadata": {
        "colab": {
          "base_uri": "https://localhost:8080/"
        },
        "id": "0wv_zB9ODGNI",
        "outputId": "b51b89ff-4338-4c48-d178-a8e2b7583716"
      },
      "execution_count": null,
      "outputs": [
        {
          "output_type": "stream",
          "name": "stdout",
          "text": [
            "5.325697211155378\n"
          ]
        }
      ]
    },
    {
      "cell_type": "code",
      "source": [
        "delay3"
      ],
      "metadata": {
        "colab": {
          "base_uri": "https://localhost:8080/"
        },
        "id": "E0e-Q46XDdo0",
        "outputId": "57a47125-f39b-4ada-9c39-47b5cda6a358"
      },
      "execution_count": null,
      "outputs": [
        {
          "output_type": "execute_result",
          "data": {
            "text/plain": [
              "20      -9\n",
              "21      -4\n",
              "22      -8\n",
              "23      -8\n",
              "24       1\n",
              "        ..\n",
              "3922     9\n",
              "3923    31\n",
              "3924    -6\n",
              "3925    -6\n",
              "3926    -3\n",
              "Name: Delay, Length: 1004, dtype: int64"
            ]
          },
          "metadata": {},
          "execution_count": 98
        }
      ]
    },
    {
      "cell_type": "code",
      "source": [
        "# Check index of delay\n",
        "index = np.where(delay > delay.mean())\n",
        "print(index[0][:10])"
      ],
      "metadata": {
        "colab": {
          "base_uri": "https://localhost:8080/"
        },
        "id": "5xN_2C8aD1hj",
        "outputId": "38e10d10-4220-4a22-a5b1-677645360331"
      },
      "execution_count": null,
      "outputs": [
        {
          "output_type": "stream",
          "name": "stdout",
          "text": [
            "[ 1  9 11 13 14 15 16 17 27 30]\n"
          ]
        }
      ]
    },
    {
      "cell_type": "code",
      "source": [
        "z"
      ],
      "metadata": {
        "colab": {
          "base_uri": "https://localhost:8080/"
        },
        "id": "YdbPS5mDECAi",
        "outputId": "7ffc341a-f0a7-43d1-942a-cf58eb92dfb3"
      },
      "execution_count": null,
      "outputs": [
        {
          "output_type": "execute_result",
          "data": {
            "text/plain": [
              "array([8, 3, 0, 9, 9, 2, 1, 3])"
            ]
          },
          "metadata": {},
          "execution_count": 100
        }
      ]
    },
    {
      "cell_type": "code",
      "source": [
        "print(len(z))  # number of elements in z"
      ],
      "metadata": {
        "colab": {
          "base_uri": "https://localhost:8080/"
        },
        "id": "8feBhZvIEQ_3",
        "outputId": "989d3367-2d8e-4e20-e2fe-b6b9208489db"
      },
      "execution_count": null,
      "outputs": [
        {
          "output_type": "stream",
          "name": "stdout",
          "text": [
            "8\n"
          ]
        }
      ]
    },
    {
      "cell_type": "code",
      "source": [
        "print(np.sum(z))  # add elements in z"
      ],
      "metadata": {
        "colab": {
          "base_uri": "https://localhost:8080/"
        },
        "id": "gGZOauLNEUj3",
        "outputId": "a7c0c5a1-54d4-45cd-e1b8-2bd0c654464c"
      },
      "execution_count": null,
      "outputs": [
        {
          "output_type": "stream",
          "name": "stdout",
          "text": [
            "35\n"
          ]
        }
      ]
    },
    {
      "cell_type": "code",
      "source": [
        "print(np.sort(z))  #sort the elements of the array z in increasing order."
      ],
      "metadata": {
        "colab": {
          "base_uri": "https://localhost:8080/"
        },
        "id": "Fx0Q9LR2Ea3j",
        "outputId": "9afba50e-5060-4b42-c5d1-21a9385b5b40"
      },
      "execution_count": null,
      "outputs": [
        {
          "output_type": "stream",
          "name": "stdout",
          "text": [
            "[0 1 2 3 3 8 9 9]\n"
          ]
        }
      ]
    },
    {
      "cell_type": "code",
      "source": [
        "print(np.sort(z)[::-1])  # sort the elements of the array z in decreasing order"
      ],
      "metadata": {
        "colab": {
          "base_uri": "https://localhost:8080/"
        },
        "id": "63mhQAX4FNe9",
        "outputId": "5b17c17a-c223-4e2f-db1e-193069348642"
      },
      "execution_count": null,
      "outputs": [
        {
          "output_type": "stream",
          "name": "stdout",
          "text": [
            "[9 9 8 3 3 2 1 0]\n"
          ]
        }
      ]
    },
    {
      "cell_type": "code",
      "source": [
        "print(np.random.permutation(10)) # shuffle the elements of the array z"
      ],
      "metadata": {
        "colab": {
          "base_uri": "https://localhost:8080/"
        },
        "id": "ye7DFVw3FWtR",
        "outputId": "14346fc7-a290-4bb8-cbdd-88524b056054"
      },
      "execution_count": null,
      "outputs": [
        {
          "output_type": "stream",
          "name": "stdout",
          "text": [
            "[7 6 4 2 8 5 1 0 9 3]\n"
          ]
        }
      ]
    },
    {
      "cell_type": "code",
      "source": [
        "print(np.random.choice(10, 4)) # select 4 random elements from the array z"
      ],
      "metadata": {
        "colab": {
          "base_uri": "https://localhost:8080/"
        },
        "id": "MQc3r3SlGQHx",
        "outputId": "e9d067e8-f6af-4b07-e7d5-2192e4492265"
      },
      "execution_count": null,
      "outputs": [
        {
          "output_type": "stream",
          "name": "stdout",
          "text": [
            "[9 2 7 8]\n"
          ]
        }
      ]
    },
    {
      "cell_type": "code",
      "source": [],
      "metadata": {
        "id": "6MasCbm7Gd7l"
      },
      "execution_count": null,
      "outputs": []
    },
    {
      "cell_type": "markdown",
      "source": [
        "## B-PlotTutorial"
      ],
      "metadata": {
        "id": "ktTqjUdlG_sd"
      }
    },
    {
      "cell_type": "code",
      "source": [
        "# import necessary libraries\n",
        "import pandas as pd\n",
        "import numpy as np\n",
        "import matplotlib.pyplot as plt\n",
        "import scipy.stats as st\n",
        "import scipy.integrate as integrate"
      ],
      "metadata": {
        "id": "Okx45QOBHIph"
      },
      "execution_count": null,
      "outputs": []
    },
    {
      "cell_type": "code",
      "source": [
        "States03 = pd.read_csv(\"https://apps.carleton.edu/curricular/math/assets/States03.csv\")\n"
      ],
      "metadata": {
        "id": "PN99lLDQHYmw"
      },
      "execution_count": null,
      "outputs": []
    },
    {
      "cell_type": "code",
      "source": [
        "# Bar plot of regions\n",
        "plt.figure(figsize=(10, 6))\n",
        "States03['Region'].value_counts().plot(kind='bar')\n",
        "plt.title('Barplot of Regions')\n",
        "plt.xlabel('Region')\n",
        "plt.ylabel('Count')\n",
        "plt.show()"
      ],
      "metadata": {
        "colab": {
          "base_uri": "https://localhost:8080/",
          "height": 619
        },
        "id": "fMt8FSIKHzxa",
        "outputId": "8e594f08-0c79-44e2-97d7-7bc1297b46f8"
      },
      "execution_count": null,
      "outputs": [
        {
          "output_type": "display_data",
          "data": {
            "text/plain": [
              "<Figure size 1000x600 with 1 Axes>"
            ],
            "image/png": "[encoded data removed]"
          },
          "metadata": {}
        }
      ]
    },
    {
      "cell_type": "code",
      "source": [
        "# Plotting symbols by region with unique colors\n",
        "plt.figure(figsize=(10, 6))\n",
        "unique_regions = States03['Region'].unique()\n",
        "color_palette = plt.cm.get_cmap('tab10', len(unique_regions)) # Get a color map with enough colors for each region\n",
        "colors = {region: color_palette(i) for i, region in enumerate(unique_regions)} # Assign a unique color to each region\n",
        "for region in unique_regions:\n",
        "    subset = States03[States03['Region'] == region]\n",
        "    plt.scatter(subset['ColGrad'], subset['Poverty'], color=colors[region], label=region)\n",
        "plt.xlabel('College grad (%)')\n",
        "plt.ylabel('Poverty (%)')\n",
        "plt.legend()\n",
        "plt.title('Poverty by College Grad and Region')\n",
        "plt.show()"
      ],
      "metadata": {
        "colab": {
          "base_uri": "https://localhost:8080/",
          "height": 620
        },
        "id": "f6dX-V3DInYs",
        "outputId": "9073f2dc-16cb-4db3-b2b2-0bd8eb8a375e"
      },
      "execution_count": null,
      "outputs": [
        {
          "output_type": "stream",
          "name": "stderr",
          "text": [
            "<ipython-input-110-543a98d52726>:4: MatplotlibDeprecationWarning: The get_cmap function was deprecated in Matplotlib 3.7 and will be removed two minor releases later. Use ``matplotlib.colormaps[name]`` or ``matplotlib.colormaps.get_cmap(obj)`` instead.\n",
            "  color_palette = plt.cm.get_cmap('tab10', len(unique_regions)) # Get a color map with enough colors for each region\n"
          ]
        },
        {
          "output_type": "display_data",
          "data": {
            "text/plain": [
              "<Figure size 1000x600 with 1 Axes>"
            ],
            "image/png": "[encoded data removed]"
          },
          "metadata": {}
        }
      ]
    },
    {
      "cell_type": "code",
      "source": [
        " # Explanation: Scatter plots are used to examine the relationship between two continuous variables. This plot shows the relationship between unemployment and poverty rates.\n",
        "\n",
        "# Histogram of Poverty with main title and labels\n",
        "plt.figure(figsize=(10, 6))\n",
        "plt.hist(States03['Poverty'], bins=10, edgecolor='k')\n",
        "plt.title('Poverty')\n",
        "plt.xlabel('Percent')\n",
        "plt.ylabel('Frequency')\n",
        "plt.xlim(0, 24)\n",
        "plt.ylim(0, 20)\n",
        "plt.show()"
      ],
      "metadata": {
        "colab": {
          "base_uri": "https://localhost:8080/",
          "height": 564
        },
        "id": "dTtiOymFI2ch",
        "outputId": "ca3f351c-b23f-4181-935f-139424a118fa"
      },
      "execution_count": null,
      "outputs": [
        {
          "output_type": "display_data",
          "data": {
            "text/plain": [
              "<Figure size 1000x600 with 1 Axes>"
            ],
            "image/png": "[encoded data removed]"
          },
          "metadata": {}
        }
      ]
    }
  ]
}